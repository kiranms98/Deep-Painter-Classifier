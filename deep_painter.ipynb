{
 "cells": [
  {
   "cell_type": "code",
   "execution_count": 54,
   "id": "943af81d-b83d-400b-9d59-daa28de8c012",
   "metadata": {},
   "outputs": [],
   "source": [
    "import numpy as np\n",
    "import tensorflow as tf\n",
    "import datetime\n",
    "from tensorflow.keras.models import Sequential\n",
    "from tensorflow.keras.layers import Dense, Flatten, Conv2D, AveragePooling2D, MaxPooling2D, Conv2DTranspose, UpSampling2D\n",
    "from tensorflow.keras import Model\n",
    "from tensorflow.keras.utils import to_categorical\n",
    "from tensorflow.keras.losses import categorical_crossentropy\n",
    "from tensorflow.keras.optimizers import Adam\n",
    "from tensorflow.keras.callbacks import TensorBoard\n",
    "import tensorflow_addons as tfa\n"
   ]
  },
  {
   "cell_type": "code",
   "execution_count": 55,
   "id": "ff4053b6-0f8a-42f8-b496-3aea74ecbeef",
   "metadata": {},
   "outputs": [],
   "source": [
    "# #Loading the data\n",
    "\n",
    "# fashion_mnist = tf.keras.datasets.fashion_mnist\n",
    "\n",
    "# (x_train, y_train), (x_test, y_test) = fashion_mnist.load_data()\n",
    "# x_train, x_test = x_train / 255.0, x_test / 255.0\n",
    "\n",
    "# # Add a channels dimension\n",
    "# x_train = x_train[..., tf.newaxis].astype(\"float32\")\n",
    "# x_test = x_test[..., tf.newaxis].astype(\"float32\")\n"
   ]
  },
  {
   "cell_type": "code",
   "execution_count": 56,
   "id": "b1d7bca5-73ec-4ffb-bc1f-e487a965fedd",
   "metadata": {},
   "outputs": [
    {
     "name": "stdout",
     "output_type": "stream",
     "text": [
      "Model: \"sequential_25\"\n",
      "_________________________________________________________________\n",
      "Layer (type)                 Output Shape              Param #   \n",
      "=================================================================\n",
      "conv2d_20 (Conv2D)           (None, 256, 256, 100)     7600      \n",
      "_________________________________________________________________\n",
      "max_pooling2d_20 (MaxPooling (None, 128, 128, 100)     0         \n",
      "_________________________________________________________________\n",
      "conv2d_21 (Conv2D)           (None, 128, 128, 200)     500200    \n",
      "_________________________________________________________________\n",
      "max_pooling2d_21 (MaxPooling (None, 64, 64, 200)       0         \n",
      "_________________________________________________________________\n",
      "up_sampling2d_12 (UpSampling (None, 128, 128, 200)     0         \n",
      "_________________________________________________________________\n",
      "conv2d_transpose_12 (Conv2DT (None, 128, 128, 200)     1000200   \n",
      "_________________________________________________________________\n",
      "up_sampling2d_13 (UpSampling (None, 256, 256, 200)     0         \n",
      "_________________________________________________________________\n",
      "conv2d_transpose_13 (Conv2DT (None, 256, 256, 100)     500100    \n",
      "=================================================================\n",
      "Total params: 2,008,100\n",
      "Trainable params: 2,008,100\n",
      "Non-trainable params: 0\n",
      "_________________________________________________________________\n"
     ]
    }
   ],
   "source": [
    "f= [256,256,3]\n",
    "import tensorflow as tf\n",
    "model = tf.keras.models.Sequential([\n",
    "Conv2D(filters=100, kernel_size=5, activation='relu', input_shape=f,padding='same'),\n",
    "MaxPooling2D(pool_size=2),\n",
    "Conv2D(filters=200, kernel_size=5, activation='relu',padding='same'),\n",
    "MaxPooling2D(pool_size=2),\n",
    "# tfa.layers.MaxUnpooling2D((2, 2),strides=(2,2),padding='SAME',), \n",
    "UpSampling2D(size=(2,2),),\n",
    "Conv2DTranspose(200, (5,5), strides=(1, 1), padding='same',),\n",
    "# tfa.layers.MaxUnpooling2D((2, 2)),\n",
    "UpSampling2D(size=(2,2),),\n",
    "Conv2DTranspose(100, (5,5), strides=(1, 1), padding='same',),\n",
    "]) \n",
    "model.summary()\n",
    "model.save_weights('autoencoder.h5')"
   ]
  },
  {
   "cell_type": "code",
   "execution_count": 57,
   "id": "852ff90d-ef3c-409b-932e-0cd712b01971",
   "metadata": {},
   "outputs": [
    {
     "name": "stdout",
     "output_type": "stream",
     "text": [
      "Model: \"sequential_26\"\n",
      "_________________________________________________________________\n",
      "Layer (type)                 Output Shape              Param #   \n",
      "=================================================================\n",
      "conv2d_20 (Conv2D)           (None, 256, 256, 100)     7600      \n",
      "_________________________________________________________________\n",
      "max_pooling2d_20 (MaxPooling (None, 128, 128, 100)     0         \n",
      "_________________________________________________________________\n",
      "conv2d_21 (Conv2D)           (None, 128, 128, 200)     500200    \n",
      "_________________________________________________________________\n",
      "max_pooling2d_21 (MaxPooling (None, 64, 64, 200)       0         \n",
      "_________________________________________________________________\n",
      "dense_26 (Dense)             (None, 64, 64, 400)       80400     \n",
      "_________________________________________________________________\n",
      "dense_27 (Dense)             (None, 64, 64, 200)       80200     \n",
      "_________________________________________________________________\n",
      "dense_28 (Dense)             (None, 64, 64, 3)         603       \n",
      "=================================================================\n",
      "Total params: 669,003\n",
      "Trainable params: 161,203\n",
      "Non-trainable params: 507,800\n",
      "_________________________________________________________________\n"
     ]
    }
   ],
   "source": [
    "model3 = tf.keras.models.Sequential(model.layers[:-4])\n",
    "model3.load_weights('autoencoder.h5', by_name=True)\n",
    "model3.add(Dense(400, activation='relu'))\n",
    "model3.add(Dense(200, activation='relu'))\n",
    "model3.add(Dense(3, activation='softmax'))\n",
    "\n",
    "for layer in model3.layers[:4]:\n",
    "    layer.trainable=False\n",
    "    \n",
    "model3.summary()"
   ]
  },
  {
   "cell_type": "code",
   "execution_count": null,
   "id": "0f8541ae-47ee-41b0-8b13-0e5627dc35ac",
   "metadata": {},
   "outputs": [],
   "source": []
  }
 ],
 "metadata": {
  "kernelspec": {
   "display_name": "Python 3",
   "language": "python",
   "name": "python3"
  },
  "language_info": {
   "codemirror_mode": {
    "name": "ipython",
    "version": 3
   },
   "file_extension": ".py",
   "mimetype": "text/x-python",
   "name": "python",
   "nbconvert_exporter": "python",
   "pygments_lexer": "ipython3",
   "version": "3.6.9"
  }
 },
 "nbformat": 4,
 "nbformat_minor": 5
}
